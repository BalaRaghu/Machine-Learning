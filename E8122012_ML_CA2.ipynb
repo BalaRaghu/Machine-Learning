{
  "cells": [
    {
      "cell_type": "markdown",
      "metadata": {
        "id": "view-in-github",
        "colab_type": "text"
      },
      "source": [
        "<a href=\"https://colab.research.google.com/github/BalaRaghu/Machine-Learning/blob/main/E8122012_ML_CA2.ipynb\" target=\"_parent\"><img src=\"https://colab.research.google.com/assets/colab-badge.svg\" alt=\"Open In Colab\"/></a>"
      ]
    },
    {
      "cell_type": "code",
      "execution_count": null,
      "metadata": {
        "id": "KseTySIKWEOw"
      },
      "outputs": [],
      "source": [
        "#2"
      ]
    },
    {
      "cell_type": "code",
      "execution_count": null,
      "metadata": {
        "id": "uZwIn7WPUoGk"
      },
      "outputs": [],
      "source": [
        "from sklearn.datasets import load_iris\n",
        "from sklearn.model_selection import train_test_split\n",
        "from sklearn.preprocessing import LabelEncoder\n",
        "from tensorflow import keras\n",
        "from tensorflow.keras.layers import Dense"
      ]
    },
    {
      "cell_type": "code",
      "execution_count": null,
      "metadata": {
        "id": "nmp5H9g9U8Yx"
      },
      "outputs": [],
      "source": [
        "# Load the Iris dataset\n",
        "data = load_iris()"
      ]
    },
    {
      "cell_type": "code",
      "execution_count": null,
      "metadata": {
        "colab": {
          "base_uri": "https://localhost:8080/"
        },
        "id": "ztwGC3IKrrf9",
        "outputId": "5c522466-6744-4f6f-e5fa-ba35f016b69d"
      },
      "outputs": [
        {
          "output_type": "execute_result",
          "data": {
            "text/plain": [
              "['sepal length (cm)',\n",
              " 'sepal width (cm)',\n",
              " 'petal length (cm)',\n",
              " 'petal width (cm)']"
            ]
          },
          "metadata": {},
          "execution_count": 7
        }
      ],
      "source": [
        "data.feature_names"
      ]
    },
    {
      "cell_type": "code",
      "execution_count": null,
      "metadata": {
        "colab": {
          "base_uri": "https://localhost:8080/"
        },
        "id": "yiQ8lTDfrrf-",
        "outputId": "84fcfb1a-14a3-4b60-e464-8b9ff3ee1b6e"
      },
      "outputs": [
        {
          "output_type": "execute_result",
          "data": {
            "text/plain": [
              "array(['setosa', 'versicolor', 'virginica'], dtype='<U10')"
            ]
          },
          "metadata": {},
          "execution_count": 8
        }
      ],
      "source": [
        "data.target_names"
      ]
    },
    {
      "cell_type": "code",
      "execution_count": null,
      "metadata": {
        "id": "aa_BhrofU8bA"
      },
      "outputs": [],
      "source": [
        "# Prepare the data\n",
        "x = data.data\n",
        "y = data.target"
      ]
    },
    {
      "cell_type": "code",
      "execution_count": null,
      "metadata": {
        "id": "wPzmEvu2U8fS"
      },
      "outputs": [],
      "source": [
        "# Split the data into training and testing sets\n",
        "X_train, X_test, y_train, y_test = train_test_split(x, y, test_size=0.2, random_state=42)"
      ]
    },
    {
      "cell_type": "code",
      "execution_count": null,
      "metadata": {
        "colab": {
          "base_uri": "https://localhost:8080/"
        },
        "id": "QBJSdQparrgA",
        "outputId": "ab4cc669-49bb-4a92-b66f-818a6d0d06a6"
      },
      "outputs": [
        {
          "output_type": "execute_result",
          "data": {
            "text/plain": [
              "(120, 4)"
            ]
          },
          "metadata": {},
          "execution_count": 12
        }
      ],
      "source": [
        "X_train.shape"
      ]
    },
    {
      "cell_type": "code",
      "execution_count": null,
      "metadata": {
        "colab": {
          "base_uri": "https://localhost:8080/"
        },
        "id": "YDAwKOsIrrgA",
        "outputId": "0c1707d9-2795-415e-a989-c36ba5897451"
      },
      "outputs": [
        {
          "output_type": "execute_result",
          "data": {
            "text/plain": [
              "(30, 4)"
            ]
          },
          "metadata": {},
          "execution_count": 13
        }
      ],
      "source": [
        "X_test.shape"
      ]
    },
    {
      "cell_type": "markdown",
      "metadata": {
        "id": "aM67-mH7rrgB"
      },
      "source": [
        " 120 training data and 30 testing data"
      ]
    },
    {
      "cell_type": "code",
      "execution_count": null,
      "metadata": {
        "colab": {
          "base_uri": "https://localhost:8080/"
        },
        "id": "TwEKYttVrrgC",
        "outputId": "d2ae8c93-0fe8-4f94-f70f-f82ac3e9ae97"
      },
      "outputs": [
        {
          "output_type": "execute_result",
          "data": {
            "text/plain": [
              "(120,)"
            ]
          },
          "metadata": {},
          "execution_count": 14
        }
      ],
      "source": [
        "y_train.shape"
      ]
    },
    {
      "cell_type": "code",
      "execution_count": null,
      "metadata": {
        "colab": {
          "base_uri": "https://localhost:8080/"
        },
        "id": "GJfpfKSxrrgC",
        "outputId": "1d58acf4-8c61-40bc-e85a-2e6dc699f9e1"
      },
      "outputs": [
        {
          "output_type": "execute_result",
          "data": {
            "text/plain": [
              "(30,)"
            ]
          },
          "metadata": {},
          "execution_count": 15
        }
      ],
      "source": [
        "y_test.shape"
      ]
    },
    {
      "cell_type": "code",
      "execution_count": null,
      "metadata": {
        "id": "s-IynAq1rrgC"
      },
      "outputs": [],
      "source": [
        "iris_class = ['0-setosa', '1-versicolor', '2-virginica']"
      ]
    },
    {
      "cell_type": "code",
      "execution_count": null,
      "metadata": {
        "id": "ZKCaAfqXU8hY"
      },
      "outputs": [],
      "source": [
        "# Create the ANN model\n",
        "model = keras.Sequential()\n",
        "model.add(Dense(10, input_shape=(4,), activation='relu'))\n",
        "model.add(Dense(8, activation='relu'))\n",
        "model.add(Dense(3, activation='softmax'))"
      ]
    },
    {
      "cell_type": "code",
      "execution_count": null,
      "metadata": {
        "id": "al2l5vIPU8jp"
      },
      "outputs": [],
      "source": [
        "# Compile the model\n",
        "model.compile(loss='sparse_categorical_crossentropy', optimizer='adam', metrics=['accuracy'])"
      ]
    },
    {
      "cell_type": "code",
      "execution_count": null,
      "metadata": {
        "colab": {
          "base_uri": "https://localhost:8080/"
        },
        "id": "KVscyUmOVMR5",
        "outputId": "f99ce368-44f1-4136-88f8-d101d93761d3"
      },
      "outputs": [
        {
          "output_type": "stream",
          "name": "stdout",
          "text": [
            "Epoch 1/100\n",
            "20/20 [==============================] - 1s 14ms/step - loss: 1.3427 - accuracy: 0.3646 - val_loss: 1.3514 - val_accuracy: 0.2083\n",
            "Epoch 2/100\n",
            "20/20 [==============================] - 0s 4ms/step - loss: 1.0058 - accuracy: 0.3750 - val_loss: 0.9914 - val_accuracy: 0.2083\n",
            "Epoch 3/100\n",
            "20/20 [==============================] - 0s 3ms/step - loss: 0.8606 - accuracy: 0.6146 - val_loss: 0.8500 - val_accuracy: 0.7083\n",
            "Epoch 4/100\n",
            "20/20 [==============================] - 0s 3ms/step - loss: 0.8197 - accuracy: 0.6458 - val_loss: 0.7943 - val_accuracy: 0.7083\n",
            "Epoch 5/100\n",
            "20/20 [==============================] - 0s 4ms/step - loss: 0.7934 - accuracy: 0.6458 - val_loss: 0.7804 - val_accuracy: 0.7083\n",
            "Epoch 6/100\n",
            "20/20 [==============================] - 0s 3ms/step - loss: 0.7715 - accuracy: 0.6458 - val_loss: 0.7648 - val_accuracy: 0.7083\n",
            "Epoch 7/100\n",
            "20/20 [==============================] - 0s 4ms/step - loss: 0.7467 - accuracy: 0.6771 - val_loss: 0.7346 - val_accuracy: 0.7917\n",
            "Epoch 8/100\n",
            "20/20 [==============================] - 0s 4ms/step - loss: 0.7235 - accuracy: 0.7083 - val_loss: 0.7138 - val_accuracy: 0.8333\n",
            "Epoch 9/100\n",
            "20/20 [==============================] - 0s 4ms/step - loss: 0.7008 - accuracy: 0.7083 - val_loss: 0.6874 - val_accuracy: 0.8333\n",
            "Epoch 10/100\n",
            "20/20 [==============================] - 0s 4ms/step - loss: 0.6773 - accuracy: 0.7500 - val_loss: 0.6674 - val_accuracy: 0.8750\n",
            "Epoch 11/100\n",
            "20/20 [==============================] - 0s 3ms/step - loss: 0.6538 - accuracy: 0.7708 - val_loss: 0.6378 - val_accuracy: 0.8333\n",
            "Epoch 12/100\n",
            "20/20 [==============================] - 0s 4ms/step - loss: 0.6313 - accuracy: 0.7292 - val_loss: 0.6104 - val_accuracy: 0.8333\n",
            "Epoch 13/100\n",
            "20/20 [==============================] - 0s 4ms/step - loss: 0.6094 - accuracy: 0.7500 - val_loss: 0.5901 - val_accuracy: 0.8750\n",
            "Epoch 14/100\n",
            "20/20 [==============================] - 0s 3ms/step - loss: 0.5884 - accuracy: 0.8542 - val_loss: 0.5799 - val_accuracy: 0.9167\n",
            "Epoch 15/100\n",
            "20/20 [==============================] - 0s 4ms/step - loss: 0.5665 - accuracy: 0.8333 - val_loss: 0.5477 - val_accuracy: 0.9167\n",
            "Epoch 16/100\n",
            "20/20 [==============================] - 0s 3ms/step - loss: 0.5503 - accuracy: 0.8542 - val_loss: 0.5344 - val_accuracy: 0.9583\n",
            "Epoch 17/100\n",
            "20/20 [==============================] - 0s 3ms/step - loss: 0.5257 - accuracy: 0.8438 - val_loss: 0.5089 - val_accuracy: 0.9167\n",
            "Epoch 18/100\n",
            "20/20 [==============================] - 0s 4ms/step - loss: 0.5055 - accuracy: 0.8750 - val_loss: 0.5039 - val_accuracy: 0.9583\n",
            "Epoch 19/100\n",
            "20/20 [==============================] - 0s 3ms/step - loss: 0.4878 - accuracy: 0.8854 - val_loss: 0.4702 - val_accuracy: 0.9583\n",
            "Epoch 20/100\n",
            "20/20 [==============================] - 0s 3ms/step - loss: 0.4727 - accuracy: 0.9479 - val_loss: 0.4708 - val_accuracy: 0.9583\n",
            "Epoch 21/100\n",
            "20/20 [==============================] - 0s 4ms/step - loss: 0.4433 - accuracy: 0.9479 - val_loss: 0.4382 - val_accuracy: 0.9583\n",
            "Epoch 22/100\n",
            "20/20 [==============================] - 0s 3ms/step - loss: 0.4179 - accuracy: 0.9583 - val_loss: 0.4220 - val_accuracy: 0.9583\n",
            "Epoch 23/100\n",
            "20/20 [==============================] - 0s 4ms/step - loss: 0.3953 - accuracy: 0.9583 - val_loss: 0.4004 - val_accuracy: 0.9583\n",
            "Epoch 24/100\n",
            "20/20 [==============================] - 0s 4ms/step - loss: 0.3781 - accuracy: 0.9688 - val_loss: 0.3896 - val_accuracy: 0.9583\n",
            "Epoch 25/100\n",
            "20/20 [==============================] - 0s 4ms/step - loss: 0.3668 - accuracy: 0.9688 - val_loss: 0.3933 - val_accuracy: 1.0000\n",
            "Epoch 26/100\n",
            "20/20 [==============================] - 0s 3ms/step - loss: 0.3516 - accuracy: 0.9688 - val_loss: 0.3531 - val_accuracy: 0.9583\n",
            "Epoch 27/100\n",
            "20/20 [==============================] - 0s 4ms/step - loss: 0.3353 - accuracy: 0.9792 - val_loss: 0.3525 - val_accuracy: 1.0000\n",
            "Epoch 28/100\n",
            "20/20 [==============================] - 0s 3ms/step - loss: 0.3231 - accuracy: 0.9688 - val_loss: 0.3466 - val_accuracy: 1.0000\n",
            "Epoch 29/100\n",
            "20/20 [==============================] - 0s 4ms/step - loss: 0.3152 - accuracy: 0.9583 - val_loss: 0.3363 - val_accuracy: 1.0000\n",
            "Epoch 30/100\n",
            "20/20 [==============================] - 0s 3ms/step - loss: 0.3021 - accuracy: 0.9792 - val_loss: 0.3121 - val_accuracy: 1.0000\n",
            "Epoch 31/100\n",
            "20/20 [==============================] - 0s 4ms/step - loss: 0.2986 - accuracy: 0.9583 - val_loss: 0.3192 - val_accuracy: 1.0000\n",
            "Epoch 32/100\n",
            "20/20 [==============================] - 0s 3ms/step - loss: 0.2876 - accuracy: 0.9792 - val_loss: 0.2906 - val_accuracy: 1.0000\n",
            "Epoch 33/100\n",
            "20/20 [==============================] - 0s 3ms/step - loss: 0.2786 - accuracy: 0.9688 - val_loss: 0.2924 - val_accuracy: 1.0000\n",
            "Epoch 34/100\n",
            "20/20 [==============================] - 0s 4ms/step - loss: 0.2729 - accuracy: 0.9688 - val_loss: 0.2794 - val_accuracy: 1.0000\n",
            "Epoch 35/100\n",
            "20/20 [==============================] - 0s 4ms/step - loss: 0.2692 - accuracy: 0.9375 - val_loss: 0.2943 - val_accuracy: 1.0000\n",
            "Epoch 36/100\n",
            "20/20 [==============================] - 0s 4ms/step - loss: 0.2590 - accuracy: 0.9688 - val_loss: 0.2548 - val_accuracy: 1.0000\n",
            "Epoch 37/100\n",
            "20/20 [==============================] - 0s 3ms/step - loss: 0.2582 - accuracy: 0.9479 - val_loss: 0.2693 - val_accuracy: 1.0000\n",
            "Epoch 38/100\n",
            "20/20 [==============================] - 0s 3ms/step - loss: 0.2435 - accuracy: 0.9688 - val_loss: 0.2369 - val_accuracy: 1.0000\n",
            "Epoch 39/100\n",
            "20/20 [==============================] - 0s 3ms/step - loss: 0.2412 - accuracy: 0.9688 - val_loss: 0.2551 - val_accuracy: 1.0000\n",
            "Epoch 40/100\n",
            "20/20 [==============================] - 0s 4ms/step - loss: 0.2378 - accuracy: 0.9583 - val_loss: 0.2541 - val_accuracy: 1.0000\n",
            "Epoch 41/100\n",
            "20/20 [==============================] - 0s 4ms/step - loss: 0.2318 - accuracy: 0.9688 - val_loss: 0.2218 - val_accuracy: 1.0000\n",
            "Epoch 42/100\n",
            "20/20 [==============================] - 0s 4ms/step - loss: 0.2278 - accuracy: 0.9479 - val_loss: 0.2502 - val_accuracy: 1.0000\n",
            "Epoch 43/100\n",
            "20/20 [==============================] - 0s 4ms/step - loss: 0.2246 - accuracy: 0.9583 - val_loss: 0.2100 - val_accuracy: 1.0000\n",
            "Epoch 44/100\n",
            "20/20 [==============================] - 0s 3ms/step - loss: 0.2177 - accuracy: 0.9792 - val_loss: 0.2037 - val_accuracy: 1.0000\n",
            "Epoch 45/100\n",
            "20/20 [==============================] - 0s 4ms/step - loss: 0.2119 - accuracy: 0.9688 - val_loss: 0.2113 - val_accuracy: 1.0000\n",
            "Epoch 46/100\n",
            "20/20 [==============================] - 0s 4ms/step - loss: 0.2091 - accuracy: 0.9688 - val_loss: 0.2139 - val_accuracy: 1.0000\n",
            "Epoch 47/100\n",
            "20/20 [==============================] - 0s 4ms/step - loss: 0.2062 - accuracy: 0.9479 - val_loss: 0.1986 - val_accuracy: 1.0000\n",
            "Epoch 48/100\n",
            "20/20 [==============================] - 0s 4ms/step - loss: 0.2038 - accuracy: 0.9792 - val_loss: 0.1871 - val_accuracy: 1.0000\n",
            "Epoch 49/100\n",
            "20/20 [==============================] - 0s 4ms/step - loss: 0.1952 - accuracy: 0.9583 - val_loss: 0.1895 - val_accuracy: 1.0000\n",
            "Epoch 50/100\n",
            "20/20 [==============================] - 0s 4ms/step - loss: 0.1907 - accuracy: 0.9688 - val_loss: 0.1905 - val_accuracy: 1.0000\n",
            "Epoch 51/100\n",
            "20/20 [==============================] - 0s 4ms/step - loss: 0.1904 - accuracy: 0.9688 - val_loss: 0.1679 - val_accuracy: 1.0000\n",
            "Epoch 52/100\n",
            "20/20 [==============================] - 0s 3ms/step - loss: 0.1837 - accuracy: 0.9688 - val_loss: 0.1773 - val_accuracy: 1.0000\n",
            "Epoch 53/100\n",
            "20/20 [==============================] - 0s 4ms/step - loss: 0.1808 - accuracy: 0.9688 - val_loss: 0.1697 - val_accuracy: 1.0000\n",
            "Epoch 54/100\n",
            "20/20 [==============================] - 0s 4ms/step - loss: 0.1789 - accuracy: 0.9688 - val_loss: 0.1622 - val_accuracy: 1.0000\n",
            "Epoch 55/100\n",
            "20/20 [==============================] - 0s 4ms/step - loss: 0.1769 - accuracy: 0.9792 - val_loss: 0.1603 - val_accuracy: 1.0000\n",
            "Epoch 56/100\n",
            "20/20 [==============================] - 0s 3ms/step - loss: 0.1734 - accuracy: 0.9688 - val_loss: 0.1564 - val_accuracy: 1.0000\n",
            "Epoch 57/100\n",
            "20/20 [==============================] - 0s 4ms/step - loss: 0.1700 - accuracy: 0.9583 - val_loss: 0.1558 - val_accuracy: 1.0000\n",
            "Epoch 58/100\n",
            "20/20 [==============================] - 0s 4ms/step - loss: 0.1647 - accuracy: 0.9688 - val_loss: 0.1508 - val_accuracy: 1.0000\n",
            "Epoch 59/100\n",
            "20/20 [==============================] - 0s 4ms/step - loss: 0.1631 - accuracy: 0.9688 - val_loss: 0.1422 - val_accuracy: 1.0000\n",
            "Epoch 60/100\n",
            "20/20 [==============================] - 0s 4ms/step - loss: 0.1615 - accuracy: 0.9688 - val_loss: 0.1591 - val_accuracy: 1.0000\n",
            "Epoch 61/100\n",
            "20/20 [==============================] - 0s 4ms/step - loss: 0.1557 - accuracy: 0.9583 - val_loss: 0.1285 - val_accuracy: 1.0000\n",
            "Epoch 62/100\n",
            "20/20 [==============================] - 0s 4ms/step - loss: 0.1594 - accuracy: 0.9792 - val_loss: 0.1370 - val_accuracy: 1.0000\n",
            "Epoch 63/100\n",
            "20/20 [==============================] - 0s 3ms/step - loss: 0.1525 - accuracy: 0.9583 - val_loss: 0.1318 - val_accuracy: 1.0000\n",
            "Epoch 64/100\n",
            "20/20 [==============================] - 0s 3ms/step - loss: 0.1493 - accuracy: 0.9792 - val_loss: 0.1177 - val_accuracy: 1.0000\n",
            "Epoch 65/100\n",
            "20/20 [==============================] - 0s 4ms/step - loss: 0.1478 - accuracy: 0.9688 - val_loss: 0.1255 - val_accuracy: 1.0000\n",
            "Epoch 66/100\n",
            "20/20 [==============================] - 0s 4ms/step - loss: 0.1448 - accuracy: 0.9688 - val_loss: 0.1236 - val_accuracy: 1.0000\n",
            "Epoch 67/100\n",
            "20/20 [==============================] - 0s 4ms/step - loss: 0.1456 - accuracy: 0.9688 - val_loss: 0.1259 - val_accuracy: 1.0000\n",
            "Epoch 68/100\n",
            "20/20 [==============================] - 0s 4ms/step - loss: 0.1423 - accuracy: 0.9688 - val_loss: 0.1255 - val_accuracy: 1.0000\n",
            "Epoch 69/100\n",
            "20/20 [==============================] - 0s 3ms/step - loss: 0.1477 - accuracy: 0.9479 - val_loss: 0.1101 - val_accuracy: 1.0000\n",
            "Epoch 70/100\n",
            "20/20 [==============================] - 0s 3ms/step - loss: 0.1447 - accuracy: 0.9792 - val_loss: 0.1010 - val_accuracy: 1.0000\n",
            "Epoch 71/100\n",
            "20/20 [==============================] - 0s 3ms/step - loss: 0.1352 - accuracy: 0.9792 - val_loss: 0.1151 - val_accuracy: 1.0000\n",
            "Epoch 72/100\n",
            "20/20 [==============================] - 0s 3ms/step - loss: 0.1346 - accuracy: 0.9792 - val_loss: 0.0995 - val_accuracy: 1.0000\n",
            "Epoch 73/100\n",
            "20/20 [==============================] - 0s 4ms/step - loss: 0.1306 - accuracy: 0.9688 - val_loss: 0.1095 - val_accuracy: 1.0000\n",
            "Epoch 74/100\n",
            "20/20 [==============================] - 0s 4ms/step - loss: 0.1357 - accuracy: 0.9479 - val_loss: 0.1089 - val_accuracy: 1.0000\n",
            "Epoch 75/100\n",
            "20/20 [==============================] - 0s 4ms/step - loss: 0.1334 - accuracy: 0.9792 - val_loss: 0.0940 - val_accuracy: 1.0000\n",
            "Epoch 76/100\n",
            "20/20 [==============================] - 0s 4ms/step - loss: 0.1312 - accuracy: 0.9479 - val_loss: 0.1087 - val_accuracy: 1.0000\n",
            "Epoch 77/100\n",
            "20/20 [==============================] - 0s 4ms/step - loss: 0.1286 - accuracy: 0.9688 - val_loss: 0.0858 - val_accuracy: 1.0000\n",
            "Epoch 78/100\n",
            "20/20 [==============================] - 0s 3ms/step - loss: 0.1228 - accuracy: 0.9688 - val_loss: 0.1036 - val_accuracy: 1.0000\n",
            "Epoch 79/100\n",
            "20/20 [==============================] - 0s 4ms/step - loss: 0.1296 - accuracy: 0.9583 - val_loss: 0.0878 - val_accuracy: 1.0000\n",
            "Epoch 80/100\n",
            "20/20 [==============================] - 0s 3ms/step - loss: 0.1224 - accuracy: 0.9688 - val_loss: 0.0966 - val_accuracy: 1.0000\n",
            "Epoch 81/100\n",
            "20/20 [==============================] - 0s 3ms/step - loss: 0.1237 - accuracy: 0.9792 - val_loss: 0.0844 - val_accuracy: 1.0000\n",
            "Epoch 82/100\n",
            "20/20 [==============================] - 0s 5ms/step - loss: 0.1209 - accuracy: 0.9583 - val_loss: 0.0957 - val_accuracy: 1.0000\n",
            "Epoch 83/100\n",
            "20/20 [==============================] - 0s 5ms/step - loss: 0.1189 - accuracy: 0.9688 - val_loss: 0.0772 - val_accuracy: 1.0000\n",
            "Epoch 84/100\n",
            "20/20 [==============================] - 0s 5ms/step - loss: 0.1174 - accuracy: 0.9792 - val_loss: 0.0892 - val_accuracy: 1.0000\n",
            "Epoch 85/100\n",
            "20/20 [==============================] - 0s 6ms/step - loss: 0.1242 - accuracy: 0.9479 - val_loss: 0.0978 - val_accuracy: 1.0000\n",
            "Epoch 86/100\n",
            "20/20 [==============================] - 0s 4ms/step - loss: 0.1121 - accuracy: 0.9688 - val_loss: 0.0704 - val_accuracy: 1.0000\n",
            "Epoch 87/100\n",
            "20/20 [==============================] - 0s 5ms/step - loss: 0.1139 - accuracy: 0.9792 - val_loss: 0.0819 - val_accuracy: 1.0000\n",
            "Epoch 88/100\n",
            "20/20 [==============================] - 0s 4ms/step - loss: 0.1137 - accuracy: 0.9688 - val_loss: 0.0836 - val_accuracy: 1.0000\n",
            "Epoch 89/100\n",
            "20/20 [==============================] - 0s 4ms/step - loss: 0.1121 - accuracy: 0.9688 - val_loss: 0.0721 - val_accuracy: 1.0000\n",
            "Epoch 90/100\n",
            "20/20 [==============================] - 0s 4ms/step - loss: 0.1154 - accuracy: 0.9583 - val_loss: 0.0776 - val_accuracy: 1.0000\n",
            "Epoch 91/100\n",
            "20/20 [==============================] - 0s 5ms/step - loss: 0.1103 - accuracy: 0.9688 - val_loss: 0.0757 - val_accuracy: 1.0000\n",
            "Epoch 92/100\n",
            "20/20 [==============================] - 0s 5ms/step - loss: 0.1113 - accuracy: 0.9688 - val_loss: 0.0768 - val_accuracy: 1.0000\n",
            "Epoch 93/100\n",
            "20/20 [==============================] - 0s 5ms/step - loss: 0.1073 - accuracy: 0.9792 - val_loss: 0.0629 - val_accuracy: 1.0000\n",
            "Epoch 94/100\n",
            "20/20 [==============================] - 0s 4ms/step - loss: 0.1095 - accuracy: 0.9792 - val_loss: 0.0707 - val_accuracy: 1.0000\n",
            "Epoch 95/100\n",
            "20/20 [==============================] - 0s 5ms/step - loss: 0.1082 - accuracy: 0.9688 - val_loss: 0.0777 - val_accuracy: 1.0000\n",
            "Epoch 96/100\n",
            "20/20 [==============================] - 0s 5ms/step - loss: 0.1081 - accuracy: 0.9583 - val_loss: 0.0683 - val_accuracy: 1.0000\n",
            "Epoch 97/100\n",
            "20/20 [==============================] - 0s 5ms/step - loss: 0.1052 - accuracy: 0.9688 - val_loss: 0.0717 - val_accuracy: 1.0000\n",
            "Epoch 98/100\n",
            "20/20 [==============================] - 0s 6ms/step - loss: 0.1044 - accuracy: 0.9688 - val_loss: 0.0658 - val_accuracy: 1.0000\n",
            "Epoch 99/100\n",
            "20/20 [==============================] - 0s 5ms/step - loss: 0.1041 - accuracy: 0.9688 - val_loss: 0.0645 - val_accuracy: 1.0000\n",
            "Epoch 100/100\n",
            "20/20 [==============================] - 0s 4ms/step - loss: 0.1177 - accuracy: 0.9792 - val_loss: 0.0693 - val_accuracy: 1.0000\n"
          ]
        },
        {
          "output_type": "execute_result",
          "data": {
            "text/plain": [
              "<keras.callbacks.History at 0x7f1e046d0c70>"
            ]
          },
          "metadata": {},
          "execution_count": 19
        }
      ],
      "source": [
        "# Train the model\n",
        "model.fit(X_train, y_train, batch_size=5, epochs=100, validation_split=0.2)"
      ]
    },
    {
      "cell_type": "markdown",
      "metadata": {
        "id": "LBJa-0HyrrgE"
      },
      "source": [
        "96% accuracy at the end of 100 epochs"
      ]
    },
    {
      "cell_type": "code",
      "execution_count": null,
      "metadata": {
        "colab": {
          "base_uri": "https://localhost:8080/"
        },
        "id": "IjNa8FsGVP01",
        "outputId": "dab3747a-9c5d-4eac-a547-ca477b654d04"
      },
      "outputs": [
        {
          "output_type": "stream",
          "name": "stdout",
          "text": [
            "1/1 [==============================] - 0s 35ms/step - loss: 0.1381 - accuracy: 0.9000\n",
            "Accuracy: 0.8999999761581421\n"
          ]
        }
      ],
      "source": [
        "# Evaluate the model\n",
        "loss, ac = model.evaluate(X_test, y_test)\n",
        "print(f\"Accuracy: {ac}\")"
      ]
    },
    {
      "cell_type": "code",
      "execution_count": null,
      "metadata": {
        "colab": {
          "base_uri": "https://localhost:8080/"
        },
        "id": "zSvDge94rrgF",
        "outputId": "6510e43c-b7c8-485e-c8c4-05e91690f58b"
      },
      "outputs": [
        {
          "output_type": "stream",
          "name": "stdout",
          "text": [
            "1/1 [==============================] - 0s 132ms/step\n"
          ]
        },
        {
          "output_type": "execute_result",
          "data": {
            "text/plain": [
              "array([[2.5111744e-03, 9.0111005e-01, 9.6378714e-02],\n",
              "       [9.9968183e-01, 3.1823767e-04, 9.3838481e-10],\n",
              "       [1.2495458e-06, 7.9330290e-03, 9.9206567e-01],\n",
              "       [1.9868840e-03, 8.9862686e-01, 9.9386215e-02],\n",
              "       [1.3542399e-03, 9.2620599e-01, 7.2439805e-02]], dtype=float32)"
            ]
          },
          "metadata": {},
          "execution_count": 21
        }
      ],
      "source": [
        "y_pred = model.predict(X_test)\n",
        "y_pred[:5]"
      ]
    },
    {
      "cell_type": "code",
      "source": [
        "import numpy as np"
      ],
      "metadata": {
        "id": "OphqV_LpuLAt"
      },
      "execution_count": null,
      "outputs": []
    },
    {
      "cell_type": "code",
      "execution_count": null,
      "metadata": {
        "colab": {
          "base_uri": "https://localhost:8080/"
        },
        "id": "Zy6IDU42rrgF",
        "outputId": "ae84a838-07bc-445f-b85a-be08501e3af6"
      },
      "outputs": [
        {
          "output_type": "execute_result",
          "data": {
            "text/plain": [
              "[1, 0, 2, 1, 1]"
            ]
          },
          "metadata": {},
          "execution_count": 23
        }
      ],
      "source": [
        "y_classes = [np.argmax(element) for element in y_pred]\n",
        "y_classes[:5]"
      ]
    },
    {
      "cell_type": "code",
      "execution_count": null,
      "metadata": {
        "colab": {
          "base_uri": "https://localhost:8080/"
        },
        "id": "EvTISBalrrgG",
        "outputId": "e3a3d481-383b-4f6a-e5cd-413896d29689"
      },
      "outputs": [
        {
          "output_type": "execute_result",
          "data": {
            "text/plain": [
              "array([1, 0, 2, 1, 1])"
            ]
          },
          "metadata": {},
          "execution_count": 24
        }
      ],
      "source": [
        "y_test[:5]"
      ]
    },
    {
      "cell_type": "markdown",
      "metadata": {
        "id": "hFOyIhyurrgG"
      },
      "source": [
        "Comparing y_test data and predicted data"
      ]
    },
    {
      "cell_type": "code",
      "execution_count": null,
      "metadata": {
        "colab": {
          "base_uri": "https://localhost:8080/"
        },
        "id": "A59obOxurrgG",
        "outputId": "a6a4d872-5176-4738-e5f8-880e3e69c916"
      },
      "outputs": [
        {
          "output_type": "execute_result",
          "data": {
            "text/plain": [
              "1"
            ]
          },
          "metadata": {},
          "execution_count": 25
        }
      ],
      "source": [
        "y_test[3]"
      ]
    },
    {
      "cell_type": "code",
      "execution_count": null,
      "metadata": {
        "colab": {
          "base_uri": "https://localhost:8080/",
          "height": 36
        },
        "id": "4g7an9wdrrgG",
        "outputId": "d26dbcf2-fbce-408d-ca7d-9194fbe2463a"
      },
      "outputs": [
        {
          "output_type": "execute_result",
          "data": {
            "text/plain": [
              "'1-versicolor'"
            ],
            "application/vnd.google.colaboratory.intrinsic+json": {
              "type": "string"
            }
          },
          "metadata": {},
          "execution_count": 26
        }
      ],
      "source": [
        "iris_class[y_classes[3]]"
      ]
    },
    {
      "cell_type": "code",
      "execution_count": null,
      "metadata": {
        "colab": {
          "base_uri": "https://localhost:8080/"
        },
        "id": "ljDWXqhtrrgH",
        "outputId": "16c8c8e5-68c2-4bfc-eef7-6f9e673c4e7d"
      },
      "outputs": [
        {
          "output_type": "execute_result",
          "data": {
            "text/plain": [
              "0"
            ]
          },
          "metadata": {},
          "execution_count": 27
        }
      ],
      "source": [
        "y_test[11]"
      ]
    },
    {
      "cell_type": "code",
      "execution_count": null,
      "metadata": {
        "colab": {
          "base_uri": "https://localhost:8080/",
          "height": 36
        },
        "id": "9awIftHCrrgH",
        "outputId": "fdf1f4a3-7af9-45a7-949c-eb711800bc6b"
      },
      "outputs": [
        {
          "output_type": "execute_result",
          "data": {
            "text/plain": [
              "'0-setosa'"
            ],
            "application/vnd.google.colaboratory.intrinsic+json": {
              "type": "string"
            }
          },
          "metadata": {},
          "execution_count": 28
        }
      ],
      "source": [
        "iris_class[y_classes[11]]"
      ]
    },
    {
      "cell_type": "markdown",
      "metadata": {
        "id": "K54xkeEvrrgH"
      },
      "source": [
        "Prediction is accurate thus our model works well"
      ]
    },
    {
      "cell_type": "code",
      "execution_count": null,
      "metadata": {
        "id": "WCpz-q3fWDHA"
      },
      "outputs": [],
      "source": [
        "#3rd question"
      ]
    },
    {
      "cell_type": "code",
      "execution_count": null,
      "metadata": {
        "id": "lKAq1ZKNrrgI"
      },
      "outputs": [],
      "source": [
        "import tensorflow as tf\n",
        "from tensorflow.keras import datasets, layers, models\n",
        "import matplotlib.pyplot as plt\n",
        "import numpy as np"
      ]
    },
    {
      "cell_type": "code",
      "execution_count": null,
      "metadata": {
        "colab": {
          "base_uri": "https://localhost:8080/"
        },
        "id": "sa0htHECrrgI",
        "outputId": "4e78ff74-6be0-4763-f268-ab827e5ed332"
      },
      "outputs": [
        {
          "output_type": "stream",
          "name": "stdout",
          "text": [
            "Downloading data from https://www.cs.toronto.edu/~kriz/cifar-10-python.tar.gz\n",
            "170498071/170498071 [==============================] - 4s 0us/step\n"
          ]
        }
      ],
      "source": [
        "#Load the dataset\n",
        "(X_train, y_train), (X_test,y_test) = datasets.cifar10.load_data()"
      ]
    },
    {
      "cell_type": "code",
      "execution_count": null,
      "metadata": {
        "colab": {
          "base_uri": "https://localhost:8080/"
        },
        "id": "JYSH8BanrrgI",
        "outputId": "f1d6d513-ca25-4091-b4ba-14773a5ed478"
      },
      "outputs": [
        {
          "output_type": "execute_result",
          "data": {
            "text/plain": [
              "(50000, 32, 32, 3)"
            ]
          },
          "metadata": {},
          "execution_count": 31
        }
      ],
      "source": [
        "X_train.shape"
      ]
    },
    {
      "cell_type": "code",
      "execution_count": null,
      "metadata": {
        "colab": {
          "base_uri": "https://localhost:8080/"
        },
        "id": "GN7bJYenrrgJ",
        "outputId": "f257a69a-301f-4481-80c9-d56b5c6f4553"
      },
      "outputs": [
        {
          "output_type": "execute_result",
          "data": {
            "text/plain": [
              "(10000, 32, 32, 3)"
            ]
          },
          "metadata": {},
          "execution_count": 32
        }
      ],
      "source": [
        "X_test.shape"
      ]
    },
    {
      "cell_type": "markdown",
      "metadata": {
        "id": "5Ml3A9WzrrgJ"
      },
      "source": [
        " 50000 training images and 1000 test images"
      ]
    },
    {
      "cell_type": "code",
      "execution_count": null,
      "metadata": {
        "colab": {
          "base_uri": "https://localhost:8080/"
        },
        "id": "CcctXQn_rrgJ",
        "outputId": "dfa232ae-d5f5-48ee-8087-9d22d406d928"
      },
      "outputs": [
        {
          "output_type": "execute_result",
          "data": {
            "text/plain": [
              "(50000, 1)"
            ]
          },
          "metadata": {},
          "execution_count": 35
        }
      ],
      "source": [
        "y_train.shape"
      ]
    },
    {
      "cell_type": "code",
      "execution_count": null,
      "metadata": {
        "colab": {
          "base_uri": "https://localhost:8080/"
        },
        "id": "C-hANWVOrrgJ",
        "outputId": "ea651325-099f-46da-ec5a-12fe1f1f6281"
      },
      "outputs": [
        {
          "output_type": "execute_result",
          "data": {
            "text/plain": [
              "(10000, 1)"
            ]
          },
          "metadata": {},
          "execution_count": 33
        }
      ],
      "source": [
        "y_test.shape"
      ]
    },
    {
      "cell_type": "code",
      "execution_count": null,
      "metadata": {
        "colab": {
          "base_uri": "https://localhost:8080/"
        },
        "id": "lTNZMGOhrrgJ",
        "outputId": "5946497e-1f9a-4b3c-a452-5a5f3a1aa299"
      },
      "outputs": [
        {
          "output_type": "execute_result",
          "data": {
            "text/plain": [
              "array([[6],\n",
              "       [9],\n",
              "       [9],\n",
              "       [4],\n",
              "       [1],\n",
              "       [1],\n",
              "       [2],\n",
              "       [7],\n",
              "       [8],\n",
              "       [3]], dtype=uint8)"
            ]
          },
          "metadata": {},
          "execution_count": 34
        }
      ],
      "source": [
        "y_train[:10]"
      ]
    },
    {
      "cell_type": "code",
      "execution_count": null,
      "metadata": {
        "colab": {
          "base_uri": "https://localhost:8080/"
        },
        "id": "OYcMTodcrrgJ",
        "outputId": "4a41e3ea-710f-41f7-eb47-ea95f2837a28"
      },
      "outputs": [
        {
          "output_type": "execute_result",
          "data": {
            "text/plain": [
              "array([6, 9, 9, 4, 1, 1, 2, 7, 8, 3], dtype=uint8)"
            ]
          },
          "metadata": {},
          "execution_count": 36
        }
      ],
      "source": [
        "#y_train is a 2D array, for our classification having 1D array is good enough. \n",
        "#so we will convert this to now 1D array\n",
        "y_train = y_train.reshape(-1,)\n",
        "y_train[:10]"
      ]
    },
    {
      "cell_type": "code",
      "execution_count": null,
      "metadata": {
        "id": "Zkovm4AlrrgJ"
      },
      "outputs": [],
      "source": [
        "y_test = y_test.reshape(-1,)"
      ]
    },
    {
      "cell_type": "code",
      "execution_count": null,
      "metadata": {
        "id": "SPHwvtTDrrgK"
      },
      "outputs": [],
      "source": [
        "image_class = [\"airplane\",\"automobile\",\"bird\",\"cat\",\"deer\",\"dog\",\"frog\",\"horse\",\"ship\",\"truck\"]"
      ]
    },
    {
      "cell_type": "code",
      "execution_count": null,
      "metadata": {
        "id": "hhI7ViVUrrgK"
      },
      "outputs": [],
      "source": [
        "#To visualize the images\n",
        "def plot_sample(X, y, index):\n",
        "    plt.figure(figsize = (15,2))\n",
        "    plt.imshow(X[index])\n",
        "    plt.xlabel(image_class[y[index]])"
      ]
    },
    {
      "cell_type": "code",
      "execution_count": null,
      "metadata": {
        "colab": {
          "base_uri": "https://localhost:8080/",
          "height": 237
        },
        "id": "jSd60lQQrrgK",
        "outputId": "1739254f-7b93-4108-96dc-f15b647be224"
      },
      "outputs": [
        {
          "output_type": "display_data",
          "data": {
            "text/plain": [
              "<Figure size 1500x200 with 1 Axes>"
            ],
            "image/png": "[encoded data removed]"
          },
          "metadata": {}
        }
      ],
      "source": [
        "plot_sample(X_train, y_train, 5)"
      ]
    },
    {
      "cell_type": "code",
      "execution_count": null,
      "metadata": {
        "colab": {
          "base_uri": "https://localhost:8080/",
          "height": 237
        },
        "id": "Vh48KIXErrgK",
        "outputId": "d278b61d-6477-4e74-8af7-ea55211f6ded"
      },
      "outputs": [
        {
          "output_type": "display_data",
          "data": {
            "text/plain": [
              "<Figure size 1500x200 with 1 Axes>"
            ],
            "image/png": "[encoded data removed]"
          },
          "metadata": {}
        }
      ],
      "source": [
        "plot_sample(X_train, y_train, 11)"
      ]
    },
    {
      "cell_type": "code",
      "execution_count": null,
      "metadata": {
        "id": "o1BSEqWBrrgK"
      },
      "outputs": [],
      "source": [
        "#Normalizing the training data\n",
        "#Normalize the images to a number from 0 to 1. \n",
        "#Image has 3 channels (R,G,B) and each value in the channel can range from 0 to 255. \n",
        "#Hence to normalize in 0-->1 range, we need to divide it by 255\n",
        "X_train = X_train / 255.0\n",
        "X_test = X_test / 255.0"
      ]
    },
    {
      "cell_type": "code",
      "execution_count": null,
      "metadata": {
        "colab": {
          "base_uri": "https://localhost:8080/"
        },
        "id": "33JG2NvLrrgK",
        "outputId": "4703bab0-9013-4a11-990d-7d28b969af84"
      },
      "outputs": [
        {
          "output_type": "stream",
          "name": "stdout",
          "text": [
            "Epoch 1/5\n",
            "1563/1563 [==============================] - 131s 83ms/step - loss: 1.8108 - accuracy: 0.3541\n",
            "Epoch 2/5\n",
            "1563/1563 [==============================] - 136s 87ms/step - loss: 1.6205 - accuracy: 0.4271\n",
            "Epoch 3/5\n",
            "1563/1563 [==============================] - 133s 85ms/step - loss: 1.5436 - accuracy: 0.4537\n",
            "Epoch 4/5\n",
            "1563/1563 [==============================] - 131s 84ms/step - loss: 1.4811 - accuracy: 0.4761\n",
            "Epoch 5/5\n",
            "1563/1563 [==============================] - 130s 83ms/step - loss: 1.4328 - accuracy: 0.4945\n"
          ]
        },
        {
          "output_type": "execute_result",
          "data": {
            "text/plain": [
              "<keras.callbacks.History at 0x7f1dfc6528b0>"
            ]
          },
          "metadata": {},
          "execution_count": 43
        }
      ],
      "source": [
        "#ANN for image classification\n",
        "ann = models.Sequential([\n",
        "        layers.Flatten(input_shape=(32,32,3)),\n",
        "        layers.Dense(3000, activation='relu'),\n",
        "        layers.Dense(1000, activation='relu'),\n",
        "        layers.Dense(10, activation='sigmoid')    \n",
        "    ])\n",
        "\n",
        "ann.compile(optimizer='SGD',\n",
        "              loss='sparse_categorical_crossentropy',\n",
        "              metrics=['accuracy'])\n",
        "\n",
        "ann.fit(X_train, y_train, epochs=5)"
      ]
    },
    {
      "cell_type": "markdown",
      "metadata": {
        "id": "M_ElmPE3rrgL"
      },
      "source": [
        "49% accuracy at the end of 5 epochs"
      ]
    },
    {
      "cell_type": "code",
      "execution_count": null,
      "metadata": {
        "colab": {
          "base_uri": "https://localhost:8080/"
        },
        "id": "KtnJBpPJrrgL",
        "outputId": "96ecb1fb-fb08-4d86-ab43-abfdcb08c114"
      },
      "outputs": [
        {
          "output_type": "stream",
          "name": "stdout",
          "text": [
            "313/313 [==============================] - 8s 26ms/step\n",
            "Classification Report: \n",
            "               precision    recall  f1-score   support\n",
            "\n",
            "           0       0.60      0.48      0.53      1000\n",
            "           1       0.60      0.61      0.61      1000\n",
            "           2       0.52      0.10      0.16      1000\n",
            "           3       0.37      0.27      0.31      1000\n",
            "           4       0.45      0.36      0.40      1000\n",
            "           5       0.50      0.24      0.33      1000\n",
            "           6       0.51      0.56      0.53      1000\n",
            "           7       0.36      0.75      0.48      1000\n",
            "           8       0.49      0.75      0.59      1000\n",
            "           9       0.49      0.60      0.54      1000\n",
            "\n",
            "    accuracy                           0.47     10000\n",
            "   macro avg       0.49      0.47      0.45     10000\n",
            "weighted avg       0.49      0.47      0.45     10000\n",
            "\n"
          ]
        }
      ],
      "source": [
        "from sklearn.metrics import confusion_matrix , classification_report\n",
        "import numpy as np\n",
        "y_pred = ann.predict(X_test)\n",
        "y_pred_classes = [np.argmax(element) for element in y_pred]\n",
        "\n",
        "print(\"Classification Report: \\n\", classification_report(y_test, y_pred_classes))"
      ]
    },
    {
      "cell_type": "code",
      "execution_count": null,
      "metadata": {
        "id": "7ToWZvqcrrgL"
      },
      "outputs": [],
      "source": [
        "#CNN for image classification\n",
        "cnn = models.Sequential([\n",
        "    layers.Conv2D(filters=32, kernel_size=(3, 3), activation='relu', input_shape=(32, 32, 3)),\n",
        "    layers.MaxPooling2D((2, 2)),\n",
        "    \n",
        "    layers.Conv2D(filters=64, kernel_size=(3, 3), activation='relu'),\n",
        "    layers.MaxPooling2D((2, 2)),\n",
        "    \n",
        "    layers.Flatten(),\n",
        "    layers.Dense(64, activation='relu'),\n",
        "    layers.Dense(10, activation='softmax')\n",
        "])"
      ]
    },
    {
      "cell_type": "code",
      "execution_count": null,
      "metadata": {
        "id": "UToaPQxArrgL"
      },
      "outputs": [],
      "source": [
        "#compile\n",
        "cnn.compile(optimizer='adam',\n",
        "              loss='sparse_categorical_crossentropy',\n",
        "              metrics=['accuracy'])"
      ]
    },
    {
      "cell_type": "code",
      "execution_count": null,
      "metadata": {
        "colab": {
          "base_uri": "https://localhost:8080/"
        },
        "id": "TFIPhFf6rrgL",
        "outputId": "1ff9970b-9855-4e5c-c203-cbad74c4f915"
      },
      "outputs": [
        {
          "output_type": "stream",
          "name": "stdout",
          "text": [
            "Epoch 1/10\n",
            "1563/1563 [==============================] - 65s 41ms/step - loss: 1.4539 - accuracy: 0.4802\n",
            "Epoch 2/10\n",
            "1563/1563 [==============================] - 66s 42ms/step - loss: 1.0986 - accuracy: 0.6142\n",
            "Epoch 3/10\n",
            "1563/1563 [==============================] - 64s 41ms/step - loss: 0.9742 - accuracy: 0.6609\n",
            "Epoch 4/10\n",
            "1563/1563 [==============================] - 64s 41ms/step - loss: 0.8895 - accuracy: 0.6925\n",
            "Epoch 5/10\n",
            "1563/1563 [==============================] - 64s 41ms/step - loss: 0.8249 - accuracy: 0.7125\n",
            "Epoch 6/10\n",
            "1563/1563 [==============================] - 64s 41ms/step - loss: 0.7711 - accuracy: 0.7332\n",
            "Epoch 7/10\n",
            "1563/1563 [==============================] - 64s 41ms/step - loss: 0.7201 - accuracy: 0.7504\n",
            "Epoch 8/10\n",
            "1563/1563 [==============================] - 64s 41ms/step - loss: 0.6796 - accuracy: 0.7637\n",
            "Epoch 9/10\n",
            "1563/1563 [==============================] - 64s 41ms/step - loss: 0.6421 - accuracy: 0.7775\n",
            "Epoch 10/10\n",
            "1563/1563 [==============================] - 64s 41ms/step - loss: 0.6064 - accuracy: 0.7895\n"
          ]
        },
        {
          "output_type": "execute_result",
          "data": {
            "text/plain": [
              "<keras.callbacks.History at 0x7f1dff551400>"
            ]
          },
          "metadata": {},
          "execution_count": 47
        }
      ],
      "source": [
        "#model.fit\n",
        "cnn.fit(X_train, y_train, epochs=10)"
      ]
    },
    {
      "cell_type": "markdown",
      "metadata": {
        "id": "CIcyWBFxrrgM"
      },
      "source": [
        "CNN model works better than ANN for cifar image classification with 81% accuracy at the end of 10th epoch"
      ]
    },
    {
      "cell_type": "code",
      "execution_count": null,
      "metadata": {
        "colab": {
          "base_uri": "https://localhost:8080/"
        },
        "id": "m8DnzkQerrgM",
        "outputId": "e9c6b09e-73d4-4e0e-8ef6-c4d8cbb95445"
      },
      "outputs": [
        {
          "output_type": "stream",
          "name": "stdout",
          "text": [
            "313/313 [==============================] - 5s 15ms/step - loss: 0.9527 - accuracy: 0.6897\n"
          ]
        },
        {
          "output_type": "execute_result",
          "data": {
            "text/plain": [
              "[0.9527460932731628, 0.6897000074386597]"
            ]
          },
          "metadata": {},
          "execution_count": 48
        }
      ],
      "source": [
        "cnn.evaluate(X_test,y_test)"
      ]
    },
    {
      "cell_type": "code",
      "execution_count": null,
      "metadata": {
        "colab": {
          "base_uri": "https://localhost:8080/"
        },
        "id": "s3YqJe5GrrgM",
        "outputId": "62bbe412-5c5a-470c-c70e-78aa3888d5f7"
      },
      "outputs": [
        {
          "output_type": "stream",
          "name": "stdout",
          "text": [
            "313/313 [==============================] - 4s 11ms/step\n"
          ]
        },
        {
          "output_type": "execute_result",
          "data": {
            "text/plain": [
              "array([[7.2705170e-06, 4.0511284e-03, 4.1289118e-07, 1.2269894e-07,\n",
              "        2.7425326e-09, 9.1242605e-09, 1.3166020e-09, 1.4219661e-09,\n",
              "        9.9583358e-01, 1.0752586e-04],\n",
              "       [2.4753551e-03, 1.4304678e-01, 4.7870688e-04, 4.8527325e-04,\n",
              "        1.3766806e-04, 2.2765284e-04, 2.8617460e-05, 3.0954881e-04,\n",
              "        8.0025476e-01, 5.2555639e-02],\n",
              "       [8.4415329e-01, 3.4504063e-02, 8.9785885e-03, 2.2323572e-03,\n",
              "        2.1539172e-03, 1.3496284e-04, 2.0874033e-04, 1.5421063e-04,\n",
              "        1.0415882e-01, 3.3210453e-03]], dtype=float32)"
            ]
          },
          "metadata": {},
          "execution_count": 52
        }
      ],
      "source": [
        "y_pred = cnn.predict(X_test)\n",
        "y_pred[1:4]"
      ]
    },
    {
      "cell_type": "code",
      "execution_count": null,
      "metadata": {
        "colab": {
          "base_uri": "https://localhost:8080/"
        },
        "id": "xtPbnpyirrgM",
        "outputId": "0677ee06-a064-4c7a-cf6e-462fd5be4b0b"
      },
      "outputs": [
        {
          "output_type": "execute_result",
          "data": {
            "text/plain": [
              "[8, 8, 8]"
            ]
          },
          "metadata": {},
          "execution_count": 51
        }
      ],
      "source": [
        "y_classes = [np.argmax(element) for element in y_pred]\n",
        "y_classes[1:4]"
      ]
    },
    {
      "cell_type": "code",
      "execution_count": null,
      "metadata": {
        "colab": {
          "base_uri": "https://localhost:8080/"
        },
        "id": "BlMk9vN3rrgM",
        "outputId": "fb5df9b4-ef3e-43cb-997e-578209097e9e"
      },
      "outputs": [
        {
          "output_type": "execute_result",
          "data": {
            "text/plain": [
              "array([8, 8, 0], dtype=uint8)"
            ]
          },
          "metadata": {},
          "execution_count": 50
        }
      ],
      "source": [
        "y_test[1:4]"
      ]
    },
    {
      "cell_type": "code",
      "execution_count": null,
      "metadata": {
        "colab": {
          "base_uri": "https://localhost:8080/",
          "height": 237
        },
        "id": "RdGV_5AirrgM",
        "outputId": "3fef2b47-19bd-429b-cd40-1c0a6fd808ec"
      },
      "outputs": [
        {
          "output_type": "display_data",
          "data": {
            "text/plain": [
              "<Figure size 1500x200 with 1 Axes>"
            ],
            "image/png": "[encoded data removed]"
          },
          "metadata": {}
        }
      ],
      "source": [
        "plot_sample(X_test, y_test,8)"
      ]
    },
    {
      "cell_type": "markdown",
      "metadata": {
        "id": "pAcL7RjdrrgM"
      },
      "source": [
        "the input image is \"cat\""
      ]
    },
    {
      "cell_type": "code",
      "execution_count": null,
      "metadata": {
        "colab": {
          "base_uri": "https://localhost:8080/",
          "height": 36
        },
        "id": "yf_JR8E9rrgM",
        "outputId": "8e32b5e6-2d79-4ee4-ebc0-6d7f0d1e2c7a"
      },
      "outputs": [
        {
          "output_type": "execute_result",
          "data": {
            "text/plain": [
              "'deer'"
            ],
            "application/vnd.google.colaboratory.intrinsic+json": {
              "type": "string"
            }
          },
          "metadata": {},
          "execution_count": 53
        }
      ],
      "source": [
        "image_class[y_classes[8]]"
      ]
    },
    {
      "cell_type": "markdown",
      "metadata": {
        "id": "IuPWa7PerrgM"
      },
      "source": [
        "our model also predicted as \"cat\""
      ]
    },
    {
      "cell_type": "code",
      "execution_count": null,
      "metadata": {
        "colab": {
          "base_uri": "https://localhost:8080/",
          "height": 237
        },
        "id": "wI8bQRtDrrgN",
        "outputId": "5e2eb544-d68f-4bb9-b970-474f760eb3f0"
      },
      "outputs": [
        {
          "output_type": "display_data",
          "data": {
            "text/plain": [
              "<Figure size 1500x200 with 1 Axes>"
            ],
            "image/png": "[encoded data removed]"
          },
          "metadata": {}
        }
      ],
      "source": [
        "plot_sample(X_test, y_test,28)"
      ]
    },
    {
      "cell_type": "markdown",
      "metadata": {
        "id": "slb7jzVzrrgN"
      },
      "source": [
        "the input image is \"truck\""
      ]
    },
    {
      "cell_type": "code",
      "execution_count": null,
      "metadata": {
        "colab": {
          "base_uri": "https://localhost:8080/",
          "height": 36
        },
        "id": "0KomAW20rrgN",
        "outputId": "16b838bc-a894-4be5-b32a-d4f7c2f8ac4c"
      },
      "outputs": [
        {
          "output_type": "execute_result",
          "data": {
            "text/plain": [
              "'automobile'"
            ],
            "application/vnd.google.colaboratory.intrinsic+json": {
              "type": "string"
            }
          },
          "metadata": {},
          "execution_count": 55
        }
      ],
      "source": [
        "image_class[y_classes[28]]"
      ]
    },
    {
      "cell_type": "markdown",
      "metadata": {
        "id": "1p6G5laxrrgN"
      },
      "source": [
        "our model also predicted as \"truck\""
      ]
    }
  ],
  "metadata": {
    "colab": {
      "provenance": [],
      "include_colab_link": true
    },
    "kernelspec": {
      "display_name": "Python 3 (ipykernel)",
      "language": "python",
      "name": "python3"
    },
    "language_info": {
      "codemirror_mode": {
        "name": "ipython",
        "version": 3
      },
      "file_extension": ".py",
      "mimetype": "text/x-python",
      "name": "python",
      "nbconvert_exporter": "python",
      "pygments_lexer": "ipython3",
      "version": "3.9.12"
    }
  },
  "nbformat": 4,
  "nbformat_minor": 0
}